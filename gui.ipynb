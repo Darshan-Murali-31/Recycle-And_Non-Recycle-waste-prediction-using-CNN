{
 "cells": [
  {
   "cell_type": "code",
   "execution_count": 1,
   "metadata": {},
   "outputs": [
    {
     "name": "stdout",
     "output_type": "stream",
     "text": [
      "1/1 [==============================] - 0s 163ms/step\n"
     ]
    }
   ],
   "source": [
    "###\n",
    "\n",
    "import tkinter as tk\n",
    "from tkinter import filedialog, messagebox\n",
    "from tensorflow.keras.models import load_model\n",
    "from tensorflow.keras.preprocessing import image\n",
    "from tensorflow.keras.applications.mobilenet_v2 import preprocess_input\n",
    "from PIL import Image, ImageTk\n",
    "import numpy as np\n",
    "\n",
    "# Define categories\n",
    "categories = {\n",
    "    0: 'ALUMINIUM-\\nAluminum is recycled into Aluminum Siding,\\n Wheels,\\n Industrial Equipment,\\n Furniture,\\n Bicycle Frames,\\n Containers,\\n Foil,\\n Sculptures',\n",
    "    1: 'CLOTHS-\\nClothes is recycled into Textile Fiber,\\n Insulation,\\n Mattress Filling,\\n Pet Bedding,\\n Fashion and Accessories,\\n Art and Crafts',\n",
    "    2: 'GLASS-\\nGlass is recycled into New Glass Containers,\\n Fiberglass,\\n Road Construction,\\n Glassware,\\n Art and Crafts,\\n Abrasives,\\n Tile and Flooring',\n",
    "    3: 'IRON-\\nIron is recycled into Steel,\\n Automotive Parts,\\n Construction Materials,\\n Railroad Tracks,\\n Ships and Boats,\\n Furniture,\\n Energy Production',\n",
    "    4: 'PAPER-\\nPaper is recycled into TissuePaper Products,\\n Hygiene Products,\\n Cardboard,\\n Paperboard,\\n Newspaper,\\n Insulation,\\n Notebooks and Stationary',\n",
    "    5: 'VEGETABLES-\\nVegetables is recycled into compost,\\n animal feed,\\n biogas,\\n Fertilizer,\\n Natural dyes,\\n Health and beauty products,\\n Biofuels,\\n vegetable dyes',\n",
    "    6: 'PLASTIC-\\nPlastic is recycled into Plastic containers,\\n plastic bages,\\n Textiles,\\n toys,\\n Insulators,\\n Art and Craft supplies,\\n pipes and drainage system'\n",
    "}\n",
    "\n",
    "# Function to classify waste using a pre-trained CNN model\n",
    "def classify_waste():\n",
    "    file_path = filedialog.askopenfilename()\n",
    "    if not file_path:\n",
    "        messagebox.showerror(\"Error\", \"Please select an image.\")\n",
    "        return\n",
    "\n",
    "    # Load the pre-trained model\n",
    "    model = load_model('plant_classification_model.keras')\n",
    "\n",
    "    # Load and preprocess the input image\n",
    "    img = image.load_img(file_path, target_size=(224, 224, 3))\n",
    "    img = image.img_to_array(img)\n",
    "    img = np.expand_dims(img, axis=0)\n",
    "    img = preprocess_input(img)\n",
    "\n",
    "    # Predict the class\n",
    "    prediction = model.predict(img)\n",
    "    class_index = np.argmax(prediction)\n",
    "\n",
    "    # Display the image in the GUI\n",
    "    img_pil = Image.open(file_path)\n",
    "    img_pil.thumbnail((200, 200))\n",
    "    img_tk = ImageTk.PhotoImage(img_pil)\n",
    "    image_label.config(image=img_tk)\n",
    "    image_label.image = img_tk\n",
    "\n",
    "    # Classify and display the result\n",
    "    detected_category = categories.get(class_index, 'Unknown')\n",
    "    result_label.config(text=f\"Detected Category: {detected_category}\")\n",
    "\n",
    "# Create the main window\n",
    "root = tk.Tk()\n",
    "root.title(\"Waste Classification\")\n",
    "\n",
    "# Set the fixed size of the window\n",
    "root.geometry(\"500x400\")\n",
    "\n",
    "# Create labels and widgets\n",
    "file_label = tk.Label(root, text=\"Select an image:\")\n",
    "file_label.pack()\n",
    "\n",
    "# Create a bigger button with increased font size\n",
    "classify_button = tk.Button(root, text=\"Classify\", command=classify_waste, font=(\"Helvetica\", 13))\n",
    "classify_button.pack()\n",
    "\n",
    "result_label = tk.Label(root, text=\"\", font=(\"Helvetica\", 12))\n",
    "result_label.pack()\n",
    "\n",
    "image_label = tk.Label(root)\n",
    "image_label.pack()\n",
    "\n",
    "# Start the Tkinter main loop\n",
    "root.mainloop()\n"
   ]
  },
  {
   "cell_type": "code",
   "execution_count": null,
   "metadata": {},
   "outputs": [],
   "source": []
  }
 ],
 "metadata": {
  "kernelspec": {
   "display_name": "Python 3",
   "language": "python",
   "name": "python3"
  },
  "language_info": {
   "codemirror_mode": {
    "name": "ipython",
    "version": 3
   },
   "file_extension": ".py",
   "mimetype": "text/x-python",
   "name": "python",
   "nbconvert_exporter": "python",
   "pygments_lexer": "ipython3",
   "version": "3.11.5"
  },
  "orig_nbformat": 4
 },
 "nbformat": 4,
 "nbformat_minor": 2
}
