{
 "cells": [
  {
   "cell_type": "code",
   "execution_count": 1,
   "metadata": {},
   "outputs": [],
   "source": [
    "import os\n",
    "import tensorflow as tf\n",
    "from tensorflow.keras.preprocessing.image import ImageDataGenerator\n",
    "from tensorflow.keras.models import Sequential\n",
    "from tensorflow.keras.layers import Conv2D, MaxPooling2D, Activation, Dropout, Flatten, Dense\n",
    "from tensorflow.keras.optimizers import Adam\n",
    "from tensorflow.keras.callbacks import ModelCheckpoint"
   ]
  },
  {
   "cell_type": "code",
   "execution_count": 2,
   "metadata": {},
   "outputs": [],
   "source": [
    "# Define your data directory containing subfolders with images\n",
    "data_dir = r'dt'\n",
    "validation_data_dir = r\"validation\"\n",
    "\n",
    "\n",
    "# Set hyperparameters\n",
    "img_height = 150\n",
    "img_width = 150\n",
    "epochs = 100"
   ]
  },
  {
   "cell_type": "code",
   "execution_count": 3,
   "metadata": {},
   "outputs": [],
   "source": [
    "from tqdm import tqdm\n",
    "import cv2\n",
    "from glob import glob\n",
    "import pandas as pd\n",
    "x_data = [] \n",
    "y_data = [] \n"
   ]
  },
  {
   "cell_type": "code",
   "execution_count": 4,
   "metadata": {},
   "outputs": [
    {
     "name": "stderr",
     "output_type": "stream",
     "text": [
      "  0%|          | 0/100 [00:00<?, ?it/s]"
     ]
    },
    {
     "name": "stderr",
     "output_type": "stream",
     "text": [
      "100%|██████████| 100/100 [00:00<00:00, 411.74it/s]\n",
      "100%|██████████| 100/100 [00:00<00:00, 629.24it/s]\n",
      "100%|██████████| 100/100 [00:00<00:00, 622.07it/s]\n",
      "100%|██████████| 100/100 [00:00<00:00, 640.84it/s]\n",
      "100%|██████████| 100/100 [00:00<00:00, 458.74it/s]\n",
      "100%|██████████| 108/108 [00:00<00:00, 528.07it/s]\n",
      "100%|██████████| 102/102 [00:00<00:00, 508.39it/s]\n"
     ]
    }
   ],
   "source": [
    "for category in glob(data_dir+'/*'):\n",
    "    for file in tqdm(glob(category+'/*')):\n",
    "        img_array=cv2.imread(file)\n",
    "        img_array = cv2.cvtColor(img_array, cv2.COLOR_BGR2RGB)\n",
    "        x_data.append(img_array) \n",
    "        y_data.append(category.split(\"/\")[-1])\n",
    "        \n",
    "data=pd.DataFrame({'image': x_data,'label': y_data})"
   ]
  },
  {
   "cell_type": "code",
   "execution_count": 5,
   "metadata": {},
   "outputs": [
    {
     "data": {
      "text/plain": [
       "(710, 2)"
      ]
     },
     "execution_count": 5,
     "metadata": {},
     "output_type": "execute_result"
    }
   ],
   "source": [
    "data.shape"
   ]
  },
  {
   "cell_type": "code",
   "execution_count": 6,
   "metadata": {},
   "outputs": [
    {
     "data": {
      "text/plain": [
       "Counter({'dt\\\\plastic': 108,\n",
       "         'dt\\\\vegetable waste': 102,\n",
       "         'dt\\\\aluminium': 100,\n",
       "         'dt\\\\cloths': 100,\n",
       "         'dt\\\\glass': 100,\n",
       "         'dt\\\\iron': 100,\n",
       "         'dt\\\\paper': 100})"
      ]
     },
     "execution_count": 6,
     "metadata": {},
     "output_type": "execute_result"
    }
   ],
   "source": [
    "from collections import Counter\n",
    "Counter(y_data)"
   ]
  },
  {
   "cell_type": "code",
   "execution_count": 7,
   "metadata": {},
   "outputs": [
    {
     "name": "stdout",
     "output_type": "stream",
     "text": [
      "Number Of Class:  7\n"
     ]
    }
   ],
   "source": [
    "className = glob(data_dir + '/*' )\n",
    "numberOfClass = len(className)\n",
    "print(\"Number Of Class: \",numberOfClass)"
   ]
  },
  {
   "cell_type": "code",
   "execution_count": 8,
   "metadata": {},
   "outputs": [],
   "source": [
    "model = Sequential()\n",
    "model.add(Conv2D(32,(3,3),input_shape = (224,224,3)))\n",
    "model.add(Activation(\"relu\"))\n",
    "model.add(MaxPooling2D())\n",
    "\n",
    "model.add(Conv2D(64,(3,3)))  \n",
    "model.add(Activation(\"relu\"))\n",
    "model.add(MaxPooling2D())\n",
    "\n",
    "model.add(Conv2D(128,(3,3)))\n",
    "model.add(Activation(\"relu\"))\n",
    "model.add(MaxPooling2D())\n",
    "\n",
    "model.add(Flatten())\n",
    "model.add(Dense(256))\n",
    "model.add(Activation(\"relu\"))\n",
    "model.add(Dropout(0.5))\n",
    "model.add(Dense(64))\n",
    "model.add(Activation(\"relu\"))\n",
    "model.add(Dropout(0.5))\n",
    "model.add(Dense(numberOfClass)) # output\n",
    "model.add(Activation(\"sigmoid\"))\n",
    "\n",
    "model.compile(loss = \"binary_crossentropy\",\n",
    "              optimizer = \"adam\",\n",
    "              metrics = [\"accuracy\"])\n",
    "\n",
    "batch_size = 256"
   ]
  },
  {
   "cell_type": "code",
   "execution_count": 9,
   "metadata": {},
   "outputs": [],
   "source": [
    "train_datagen = ImageDataGenerator(rescale= 1./255)"
   ]
  },
  {
   "cell_type": "code",
   "execution_count": 10,
   "metadata": {},
   "outputs": [],
   "source": [
    "test_datagen = ImageDataGenerator(rescale= 1./255)"
   ]
  },
  {
   "cell_type": "code",
   "execution_count": 11,
   "metadata": {},
   "outputs": [
    {
     "name": "stdout",
     "output_type": "stream",
     "text": [
      "Found 710 images belonging to 7 classes.\n"
     ]
    },
    {
     "name": "stdout",
     "output_type": "stream",
     "text": [
      "Found 706 images belonging to 7 classes.\n"
     ]
    }
   ],
   "source": [
    "train_generator = train_datagen.flow_from_directory(\n",
    "        data_dir, \n",
    "        target_size= (224,224),\n",
    "        batch_size = batch_size,\n",
    "        color_mode= \"rgb\",\n",
    "        class_mode= \"categorical\")\n",
    "\n",
    "test_generator = test_datagen.flow_from_directory(\n",
    "        validation_data_dir, \n",
    "        target_size= (224,224),\n",
    "        batch_size = batch_size,\n",
    "        color_mode= \"rgb\",\n",
    "        class_mode= \"categorical\")"
   ]
  },
  {
   "cell_type": "code",
   "execution_count": 16,
   "metadata": {},
   "outputs": [
    {
     "name": "stderr",
     "output_type": "stream",
     "text": [
      "C:\\Users\\darsh\\AppData\\Local\\Temp\\ipykernel_18748\\1621992094.py:1: UserWarning: `Model.fit_generator` is deprecated and will be removed in a future version. Please use `Model.fit`, which supports generators.\n",
      "  hist = model.fit_generator(\n"
     ]
    },
    {
     "name": "stdout",
     "output_type": "stream",
     "text": [
      "Epoch 1/100\n",
      "3/3 [==============================] - 68s 18s/step - loss: 0.4069 - accuracy: 0.3197 - val_loss: 0.3469 - val_accuracy: 0.4703\n",
      "Epoch 2/100\n",
      "3/3 [==============================] - 49s 20s/step - loss: 0.3985 - accuracy: 0.3592 - val_loss: 0.3496 - val_accuracy: 0.4603\n",
      "Epoch 3/100\n",
      "3/3 [==============================] - 43s 13s/step - loss: 0.3914 - accuracy: 0.3521 - val_loss: 0.3448 - val_accuracy: 0.4873\n",
      "Epoch 4/100\n",
      "3/3 [==============================] - 45s 19s/step - loss: 0.3887 - accuracy: 0.3592 - val_loss: 0.3328 - val_accuracy: 0.4972\n",
      "Epoch 5/100\n",
      "3/3 [==============================] - 42s 12s/step - loss: 0.3963 - accuracy: 0.3437 - val_loss: 0.3412 - val_accuracy: 0.4745\n",
      "Epoch 6/100\n",
      "3/3 [==============================] - 55s 17s/step - loss: 0.3766 - accuracy: 0.4127 - val_loss: 0.3320 - val_accuracy: 0.4915\n",
      "Epoch 7/100\n",
      "3/3 [==============================] - 42s 13s/step - loss: 0.3858 - accuracy: 0.3972 - val_loss: 0.3337 - val_accuracy: 0.5113\n",
      "Epoch 8/100\n",
      "3/3 [==============================] - 44s 18s/step - loss: 0.3769 - accuracy: 0.3915 - val_loss: 0.3304 - val_accuracy: 0.5184\n",
      "Epoch 9/100\n",
      "3/3 [==============================] - 47s 20s/step - loss: 0.3597 - accuracy: 0.4352 - val_loss: 0.3218 - val_accuracy: 0.5057\n",
      "Epoch 10/100\n",
      "3/3 [==============================] - 39s 16s/step - loss: 0.3615 - accuracy: 0.4310 - val_loss: 0.3183 - val_accuracy: 0.5467\n",
      "Epoch 11/100\n",
      "3/3 [==============================] - 48s 15s/step - loss: 0.3404 - accuracy: 0.4859 - val_loss: 0.3075 - val_accuracy: 0.5694\n",
      "Epoch 12/100\n",
      "3/3 [==============================] - 44s 18s/step - loss: 0.3363 - accuracy: 0.4704 - val_loss: 0.3018 - val_accuracy: 0.5694\n",
      "Epoch 13/100\n",
      "3/3 [==============================] - 38s 13s/step - loss: 0.3283 - accuracy: 0.5070 - val_loss: 0.3003 - val_accuracy: 0.5836\n",
      "Epoch 14/100\n",
      "3/3 [==============================] - 43s 18s/step - loss: 0.3197 - accuracy: 0.5113 - val_loss: 0.2851 - val_accuracy: 0.5850\n",
      "Epoch 15/100\n",
      "3/3 [==============================] - 52s 15s/step - loss: 0.3110 - accuracy: 0.5254 - val_loss: 0.2820 - val_accuracy: 0.5992\n",
      "Epoch 16/100\n",
      "3/3 [==============================] - 46s 14s/step - loss: 0.2995 - accuracy: 0.5352 - val_loss: 0.2778 - val_accuracy: 0.6147\n",
      "Epoch 17/100\n",
      "3/3 [==============================] - 48s 13s/step - loss: 0.2841 - accuracy: 0.5986 - val_loss: 0.2670 - val_accuracy: 0.6317\n",
      "Epoch 18/100\n",
      "3/3 [==============================] - 48s 15s/step - loss: 0.2823 - accuracy: 0.6028 - val_loss: 0.2709 - val_accuracy: 0.6246\n",
      "Epoch 19/100\n",
      "3/3 [==============================] - 45s 12s/step - loss: 0.2770 - accuracy: 0.5803 - val_loss: 0.2603 - val_accuracy: 0.6586\n",
      "Epoch 20/100\n",
      "3/3 [==============================] - 48s 15s/step - loss: 0.2664 - accuracy: 0.6155 - val_loss: 0.2630 - val_accuracy: 0.6317\n",
      "Epoch 21/100\n",
      "3/3 [==============================] - 48s 14s/step - loss: 0.2684 - accuracy: 0.6324 - val_loss: 0.2499 - val_accuracy: 0.6700\n",
      "Epoch 22/100\n",
      "3/3 [==============================] - 46s 13s/step - loss: 0.2593 - accuracy: 0.6577 - val_loss: 0.2479 - val_accuracy: 0.6898\n",
      "Epoch 23/100\n",
      "3/3 [==============================] - 43s 14s/step - loss: 0.2471 - accuracy: 0.6620 - val_loss: 0.2425 - val_accuracy: 0.6870\n",
      "Epoch 24/100\n",
      "3/3 [==============================] - 43s 13s/step - loss: 0.2340 - accuracy: 0.6845 - val_loss: 0.2292 - val_accuracy: 0.7096\n",
      "Epoch 25/100\n",
      "3/3 [==============================] - 42s 17s/step - loss: 0.2300 - accuracy: 0.7141 - val_loss: 0.2291 - val_accuracy: 0.7054\n",
      "Epoch 26/100\n",
      "3/3 [==============================] - 42s 15s/step - loss: 0.2110 - accuracy: 0.7380 - val_loss: 0.2270 - val_accuracy: 0.7280\n",
      "Epoch 27/100\n",
      "3/3 [==============================] - 47s 20s/step - loss: 0.2078 - accuracy: 0.7254 - val_loss: 0.2143 - val_accuracy: 0.7309\n",
      "Epoch 28/100\n",
      "3/3 [==============================] - 40s 12s/step - loss: 0.1884 - accuracy: 0.7634 - val_loss: 0.2105 - val_accuracy: 0.7337\n",
      "Epoch 29/100\n",
      "3/3 [==============================] - 42s 17s/step - loss: 0.1814 - accuracy: 0.7718 - val_loss: 0.2059 - val_accuracy: 0.7479\n",
      "Epoch 30/100\n",
      "3/3 [==============================] - 44s 13s/step - loss: 0.1688 - accuracy: 0.8070 - val_loss: 0.2030 - val_accuracy: 0.7507\n",
      "Epoch 31/100\n",
      "3/3 [==============================] - 44s 14s/step - loss: 0.1624 - accuracy: 0.7915 - val_loss: 0.2042 - val_accuracy: 0.7394\n",
      "Epoch 32/100\n",
      "3/3 [==============================] - 45s 14s/step - loss: 0.1514 - accuracy: 0.8155 - val_loss: 0.2093 - val_accuracy: 0.7380\n",
      "Epoch 33/100\n",
      "3/3 [==============================] - 59s 22s/step - loss: 0.1506 - accuracy: 0.8211 - val_loss: 0.1971 - val_accuracy: 0.7635\n",
      "Epoch 34/100\n",
      "3/3 [==============================] - 60s 17s/step - loss: 0.1389 - accuracy: 0.8521 - val_loss: 0.2166 - val_accuracy: 0.7351\n",
      "Epoch 35/100\n",
      "3/3 [==============================] - 39s 15s/step - loss: 0.1243 - accuracy: 0.8606 - val_loss: 0.1989 - val_accuracy: 0.7691\n",
      "Epoch 36/100\n",
      "3/3 [==============================] - 51s 14s/step - loss: 0.1205 - accuracy: 0.8746 - val_loss: 0.2079 - val_accuracy: 0.7578\n",
      "Epoch 37/100\n",
      "3/3 [==============================] - 44s 18s/step - loss: 0.1258 - accuracy: 0.8563 - val_loss: 0.1848 - val_accuracy: 0.7776\n",
      "Epoch 38/100\n",
      "3/3 [==============================] - 41s 12s/step - loss: 0.1031 - accuracy: 0.9014 - val_loss: 0.1903 - val_accuracy: 0.7847\n",
      "Epoch 39/100\n",
      "3/3 [==============================] - 48s 17s/step - loss: 0.1112 - accuracy: 0.8746 - val_loss: 0.1962 - val_accuracy: 0.7592\n",
      "Epoch 40/100\n",
      "3/3 [==============================] - 44s 14s/step - loss: 0.1000 - accuracy: 0.9042 - val_loss: 0.1999 - val_accuracy: 0.7620\n",
      "Epoch 41/100\n",
      "3/3 [==============================] - 41s 16s/step - loss: 0.0864 - accuracy: 0.9056 - val_loss: 0.2055 - val_accuracy: 0.7705\n",
      "Epoch 42/100\n",
      "3/3 [==============================] - 53s 23s/step - loss: 0.0979 - accuracy: 0.8930 - val_loss: 0.2051 - val_accuracy: 0.7776\n",
      "Epoch 43/100\n",
      "3/3 [==============================] - 50s 16s/step - loss: 0.0872 - accuracy: 0.9211 - val_loss: 0.2038 - val_accuracy: 0.7691\n",
      "Epoch 44/100\n",
      "3/3 [==============================] - 54s 19s/step - loss: 0.0894 - accuracy: 0.9028 - val_loss: 0.2034 - val_accuracy: 0.7649\n",
      "Epoch 45/100\n",
      "3/3 [==============================] - 60s 17s/step - loss: 0.0822 - accuracy: 0.9225 - val_loss: 0.1956 - val_accuracy: 0.7833\n",
      "Epoch 46/100\n",
      "3/3 [==============================] - 51s 15s/step - loss: 0.0735 - accuracy: 0.9465 - val_loss: 0.1903 - val_accuracy: 0.7960\n",
      "Epoch 47/100\n",
      "3/3 [==============================] - 61s 26s/step - loss: 0.0667 - accuracy: 0.9437 - val_loss: 0.2060 - val_accuracy: 0.7861\n",
      "Epoch 48/100\n",
      "3/3 [==============================] - 60s 26s/step - loss: 0.0694 - accuracy: 0.9324 - val_loss: 0.2287 - val_accuracy: 0.7720\n",
      "Epoch 49/100\n",
      "3/3 [==============================] - 57s 16s/step - loss: 0.0627 - accuracy: 0.9380 - val_loss: 0.2147 - val_accuracy: 0.7762\n",
      "Epoch 50/100\n",
      "3/3 [==============================] - 51s 19s/step - loss: 0.0557 - accuracy: 0.9437 - val_loss: 0.2132 - val_accuracy: 0.7833\n",
      "Epoch 51/100\n",
      "3/3 [==============================] - 64s 19s/step - loss: 0.0602 - accuracy: 0.9479 - val_loss: 0.2099 - val_accuracy: 0.7833\n",
      "Epoch 52/100\n",
      "3/3 [==============================] - 56s 24s/step - loss: 0.0648 - accuracy: 0.9507 - val_loss: 0.2063 - val_accuracy: 0.7904\n",
      "Epoch 53/100\n",
      "3/3 [==============================] - 63s 18s/step - loss: 0.0510 - accuracy: 0.9577 - val_loss: 0.2187 - val_accuracy: 0.7890\n",
      "Epoch 54/100\n",
      "3/3 [==============================] - 47s 20s/step - loss: 0.0494 - accuracy: 0.9606 - val_loss: 0.2210 - val_accuracy: 0.7861\n",
      "Epoch 55/100\n",
      "3/3 [==============================] - 50s 16s/step - loss: 0.0456 - accuracy: 0.9592 - val_loss: 0.2313 - val_accuracy: 0.7748\n",
      "Epoch 56/100\n",
      "3/3 [==============================] - 52s 14s/step - loss: 0.0468 - accuracy: 0.9535 - val_loss: 0.2269 - val_accuracy: 0.7847\n",
      "Epoch 57/100\n",
      "3/3 [==============================] - 50s 17s/step - loss: 0.0490 - accuracy: 0.9507 - val_loss: 0.2266 - val_accuracy: 0.7833\n",
      "Epoch 58/100\n",
      "3/3 [==============================] - 51s 14s/step - loss: 0.0468 - accuracy: 0.9592 - val_loss: 0.2165 - val_accuracy: 0.7890\n",
      "Epoch 59/100\n",
      "3/3 [==============================] - 50s 15s/step - loss: 0.0432 - accuracy: 0.9718 - val_loss: 0.2267 - val_accuracy: 0.7918\n",
      "Epoch 60/100\n",
      "3/3 [==============================] - 58s 15s/step - loss: 0.0356 - accuracy: 0.9761 - val_loss: 0.2422 - val_accuracy: 0.7960\n",
      "Epoch 61/100\n",
      "3/3 [==============================] - 60s 16s/step - loss: 0.0361 - accuracy: 0.9718 - val_loss: 0.2342 - val_accuracy: 0.8045\n",
      "Epoch 62/100\n",
      "3/3 [==============================] - 64s 17s/step - loss: 0.0345 - accuracy: 0.9704 - val_loss: 0.2570 - val_accuracy: 0.7861\n",
      "Epoch 63/100\n",
      "3/3 [==============================] - 58s 18s/step - loss: 0.0334 - accuracy: 0.9732 - val_loss: 0.2658 - val_accuracy: 0.7805\n",
      "Epoch 64/100\n",
      "3/3 [==============================] - 64s 27s/step - loss: 0.0363 - accuracy: 0.9746 - val_loss: 0.2786 - val_accuracy: 0.7847\n",
      "Epoch 65/100\n",
      "3/3 [==============================] - 64s 19s/step - loss: 0.0346 - accuracy: 0.9690 - val_loss: 0.2781 - val_accuracy: 0.7932\n",
      "Epoch 66/100\n",
      "3/3 [==============================] - 71s 24s/step - loss: 0.0312 - accuracy: 0.9761 - val_loss: 0.2570 - val_accuracy: 0.7932\n",
      "Epoch 67/100\n",
      "3/3 [==============================] - 5993s 20s/step - loss: 0.0320 - accuracy: 0.9761 - val_loss: 0.2577 - val_accuracy: 0.7904\n",
      "Epoch 68/100\n",
      "3/3 [==============================] - 41s 12s/step - loss: 0.0323 - accuracy: 0.9761 - val_loss: 0.2580 - val_accuracy: 0.7960\n",
      "Epoch 69/100\n",
      "3/3 [==============================] - 31s 13s/step - loss: 0.0409 - accuracy: 0.9634 - val_loss: 0.2723 - val_accuracy: 0.7861\n",
      "Epoch 70/100\n",
      "3/3 [==============================] - 30s 9s/step - loss: 0.0258 - accuracy: 0.9789 - val_loss: 0.2648 - val_accuracy: 0.7861\n",
      "Epoch 71/100\n",
      "3/3 [==============================] - 30s 10s/step - loss: 0.0326 - accuracy: 0.9732 - val_loss: 0.2699 - val_accuracy: 0.7819\n",
      "Epoch 72/100\n",
      "3/3 [==============================] - 28s 8s/step - loss: 0.0289 - accuracy: 0.9775 - val_loss: 0.2789 - val_accuracy: 0.7748\n",
      "Epoch 73/100\n",
      "3/3 [==============================] - 28s 9s/step - loss: 0.0323 - accuracy: 0.9732 - val_loss: 0.2896 - val_accuracy: 0.7677\n",
      "Epoch 74/100\n",
      "3/3 [==============================] - 37s 12s/step - loss: 0.0252 - accuracy: 0.9873 - val_loss: 0.2942 - val_accuracy: 0.7790\n",
      "Epoch 75/100\n",
      "3/3 [==============================] - 26s 10s/step - loss: 0.0311 - accuracy: 0.9775 - val_loss: 0.2718 - val_accuracy: 0.7946\n",
      "Epoch 76/100\n",
      "3/3 [==============================] - 45s 19s/step - loss: 0.0278 - accuracy: 0.9845 - val_loss: 0.2564 - val_accuracy: 0.7989\n",
      "Epoch 77/100\n",
      "3/3 [==============================] - 30s 9s/step - loss: 0.0251 - accuracy: 0.9831 - val_loss: 0.2521 - val_accuracy: 0.7918\n",
      "Epoch 78/100\n",
      "3/3 [==============================] - 32s 10s/step - loss: 0.0272 - accuracy: 0.9789 - val_loss: 0.2573 - val_accuracy: 0.7847\n",
      "Epoch 79/100\n",
      "3/3 [==============================] - 29s 11s/step - loss: 0.0287 - accuracy: 0.9732 - val_loss: 0.2463 - val_accuracy: 0.8031\n",
      "Epoch 80/100\n",
      "3/3 [==============================] - 29s 9s/step - loss: 0.0297 - accuracy: 0.9817 - val_loss: 0.2512 - val_accuracy: 0.8017\n",
      "Epoch 81/100\n",
      "3/3 [==============================] - 27s 9s/step - loss: 0.0227 - accuracy: 0.9859 - val_loss: 0.2789 - val_accuracy: 0.7975\n",
      "Epoch 82/100\n",
      "3/3 [==============================] - 28s 11s/step - loss: 0.0256 - accuracy: 0.9845 - val_loss: 0.3068 - val_accuracy: 0.7975\n",
      "Epoch 83/100\n",
      "3/3 [==============================] - 28s 9s/step - loss: 0.0246 - accuracy: 0.9761 - val_loss: 0.3156 - val_accuracy: 0.8017\n",
      "Epoch 84/100\n",
      "3/3 [==============================] - 26s 10s/step - loss: 0.0213 - accuracy: 0.9887 - val_loss: 0.3020 - val_accuracy: 0.7960\n",
      "Epoch 85/100\n",
      "3/3 [==============================] - 26s 9s/step - loss: 0.0277 - accuracy: 0.9817 - val_loss: 0.2934 - val_accuracy: 0.7946\n",
      "Epoch 86/100\n",
      "3/3 [==============================] - 26s 9s/step - loss: 0.0197 - accuracy: 0.9817 - val_loss: 0.2771 - val_accuracy: 0.7946\n",
      "Epoch 87/100\n",
      "3/3 [==============================] - 30s 9s/step - loss: 0.0174 - accuracy: 0.9958 - val_loss: 0.2892 - val_accuracy: 0.8031\n",
      "Epoch 88/100\n",
      "3/3 [==============================] - 27s 9s/step - loss: 0.0189 - accuracy: 0.9887 - val_loss: 0.3100 - val_accuracy: 0.7904\n",
      "Epoch 89/100\n",
      "3/3 [==============================] - 31s 9s/step - loss: 0.0282 - accuracy: 0.9761 - val_loss: 0.3018 - val_accuracy: 0.7989\n",
      "Epoch 90/100\n",
      "3/3 [==============================] - 28s 9s/step - loss: 0.0197 - accuracy: 0.9859 - val_loss: 0.3069 - val_accuracy: 0.7989\n",
      "Epoch 91/100\n",
      "3/3 [==============================] - 27s 10s/step - loss: 0.0200 - accuracy: 0.9859 - val_loss: 0.3099 - val_accuracy: 0.7932\n",
      "Epoch 92/100\n",
      "3/3 [==============================] - 33s 11s/step - loss: 0.0215 - accuracy: 0.9803 - val_loss: 0.2993 - val_accuracy: 0.7805\n",
      "Epoch 93/100\n",
      "3/3 [==============================] - 32s 10s/step - loss: 0.0173 - accuracy: 0.9901 - val_loss: 0.2989 - val_accuracy: 0.7932\n",
      "Epoch 94/100\n",
      "3/3 [==============================] - 25s 10s/step - loss: 0.0165 - accuracy: 0.9915 - val_loss: 0.2951 - val_accuracy: 0.7960\n",
      "Epoch 95/100\n",
      "3/3 [==============================] - 27s 9s/step - loss: 0.0128 - accuracy: 0.9958 - val_loss: 0.3016 - val_accuracy: 0.8031\n",
      "Epoch 96/100\n",
      "3/3 [==============================] - 26s 9s/step - loss: 0.0195 - accuracy: 0.9845 - val_loss: 0.3118 - val_accuracy: 0.7904\n",
      "Epoch 97/100\n",
      "3/3 [==============================] - 25s 9s/step - loss: 0.0227 - accuracy: 0.9901 - val_loss: 0.3242 - val_accuracy: 0.7847\n",
      "Epoch 98/100\n",
      "3/3 [==============================] - 27s 9s/step - loss: 0.0210 - accuracy: 0.9887 - val_loss: 0.3007 - val_accuracy: 0.7975\n",
      "Epoch 99/100\n",
      "3/3 [==============================] - 25s 10s/step - loss: 0.0183 - accuracy: 0.9873 - val_loss: 0.2953 - val_accuracy: 0.8017\n",
      "Epoch 100/100\n",
      "3/3 [==============================] - 28s 9s/step - loss: 0.0178 - accuracy: 0.9901 - val_loss: 0.3127 - val_accuracy: 0.7975\n"
     ]
    }
   ],
   "source": [
    "hist = model.fit_generator(\n",
    "        generator = train_generator,\n",
    "        epochs=epochs,\n",
    "        validation_data = test_generator)"
   ]
  },
  {
   "cell_type": "code",
   "execution_count": 17,
   "metadata": {},
   "outputs": [
    {
     "name": "stdout",
     "output_type": "stream",
     "text": [
      "Final Validation Accuracy: 0.7974504232406616\n"
     ]
    }
   ],
   "source": [
    "# Print final validation accuracy\n",
    "final_val_accuracy = hist.history['val_accuracy'][-1]\n",
    "print(f\"Final Validation Accuracy: {final_val_accuracy}\")"
   ]
  },
  {
   "cell_type": "code",
   "execution_count": 18,
   "metadata": {},
   "outputs": [],
   "source": [
    "# Save the trained model\n",
    "model.save('plant_classification_model.keras')"
   ]
  },
  {
   "cell_type": "code",
   "execution_count": null,
   "metadata": {},
   "outputs": [],
   "source": []
  }
 ],
 "metadata": {
  "kernelspec": {
   "display_name": "Python 3",
   "language": "python",
   "name": "python3"
  },
  "language_info": {
   "codemirror_mode": {
    "name": "ipython",
    "version": 3
   },
   "file_extension": ".py",
   "mimetype": "text/x-python",
   "name": "python",
   "nbconvert_exporter": "python",
   "pygments_lexer": "ipython3",
   "version": "3.11.5"
  }
 },
 "nbformat": 4,
 "nbformat_minor": 2
}
